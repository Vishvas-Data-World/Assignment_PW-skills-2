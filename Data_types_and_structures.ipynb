{
  "nbformat": 4,
  "nbformat_minor": 0,
  "metadata": {
    "colab": {
      "provenance": []
    },
    "kernelspec": {
      "name": "python3",
      "display_name": "Python 3"
    },
    "language_info": {
      "name": "python"
    }
  },
  "cells": [
    {
      "cell_type": "markdown",
      "source": [
        "####Theory Questions"
      ],
      "metadata": {
        "id": "u2PeGg3VZzNj"
      }
    },
    {
      "cell_type": "markdown",
      "source": [
        "1. What are data structures, and why are they important?\n",
        "\n",
        "Data structures are ways of organizing and storing data to perform operations efficiently.\n",
        "\n",
        "They are important because they help improve the performance of algorithms, manage large datasets,\n",
        "and solve problems effectively by providing optimized ways to access, insert, and modify data.\n"
      ],
      "metadata": {
        "id": "O3MjOsa0FEut"
      }
    },
    {
      "cell_type": "markdown",
      "source": [
        "2. Explain the difference between mutable and immutable data types with examples.\n",
        "\n",
        "Mutable data types can be changed after creation. Example:\n",
        "Lists can have their elements added, removed, or changed.\n",
        "\n",
        "Immutable data types cannot be modified after creation. Example: Strings and Tuples can't be changed once created."
      ],
      "metadata": {
        "id": "UYVKzbLCFGXG"
      }
    },
    {
      "cell_type": "markdown",
      "source": [
        "3. What are the main differences between lists and tuples in Python?\n",
        "\n",
        "Lists are mutable (can be changed), ordered, and allow duplicates.\n",
        "\n",
        "Tuples are immutable (cannot be changed), ordered, and also allow duplicates. They are often used when data should not be altered.\n"
      ],
      "metadata": {
        "id": "hdVZVJdbGGnN"
      }
    },
    {
      "cell_type": "markdown",
      "source": [
        "4. Describe how dictionaries store data.\n",
        "\n",
        "Dictionaries store data as key-value pairs. Each key is unique, and the associated value can be accessed quickly using the key. They are implemented using hash tables for fast lookups."
      ],
      "metadata": {
        "id": "PIBErY5gHCXR"
      }
    },
    {
      "cell_type": "markdown",
      "source": [
        "5. Why might you use a set instead of a list in Python?\n",
        "\n",
        "A set is used when you need to ensure uniqueness of elements and perform set operations like union, intersection, and difference.\n",
        "\n",
        "Unlike a list, sets automatically eliminate duplicates and provide faster membership tests (O(1) time complexity on average).\n"
      ],
      "metadata": {
        "id": "vdWsQVqXIHQN"
      }
    },
    {
      "cell_type": "markdown",
      "source": [
        "6. What is a string in Python, and how is it different from a list?\n",
        "\n",
        "A string is an immutable sequence of characters, while a list is a mutable collection of items that can be of different data types.\n",
        "Strings are specifically for text, while lists can hold any type of data and can be modified.\n"
      ],
      "metadata": {
        "id": "92KFjyx9Iair"
      }
    },
    {
      "cell_type": "markdown",
      "source": [
        "7. How do tuples ensure data integrity in Python?\n",
        "\n",
        "Tuples ensure data integrity by being immutable, meaning their elements cannot be changed, added, or removed after creation.\n",
        "\n",
        "This makes them ideal for representing fixed, unchangeable data.\n"
      ],
      "metadata": {
        "id": "0izU2rHUIbCT"
      }
    },
    {
      "cell_type": "markdown",
      "source": [
        "8. What is a hash table, and how does it relate to dictionaries in Python?\n",
        "\n",
        "A hash table is a data structure that stores data in key-value pairs, using a hash function to compute the index for storing or retrieving data.\n",
        "\n",
        "Dictionaries in Python are implemented using hash tables, allowing for fast lookups and insertions by key.\n"
      ],
      "metadata": {
        "id": "sn3BCMxeJB8O"
      }
    },
    {
      "cell_type": "markdown",
      "source": [
        "9. Can lists contain different data types in Python?\n",
        "\n",
        "Yes, lists in Python can contain elements of different data types, such as integers, strings, floats, and even other lists or objects."
      ],
      "metadata": {
        "id": "dq2omdfDJNJh"
      }
    },
    {
      "cell_type": "markdown",
      "source": [
        "10. Explain why strings are immutable in Python.\n",
        "\n",
        "Strings are immutable in Python to ensure consistency, memory efficiency, and performance optimization.\n",
        "\n",
        "Immutable strings allow for interning (reuse of identical string objects) and prevent accidental modifications of text data."
      ],
      "metadata": {
        "id": "_2Ako55dJNoU"
      }
    },
    {
      "cell_type": "markdown",
      "source": [
        "11. What advantages do dictionaries offer over lists for certain tasks?\n",
        "\n",
        "Dictionaries offer faster lookups, insertions, and deletions by key (O(1) time complexity on average), making them ideal when you need to associate and retrieve data using unique keys.\n",
        "\n",
        "In contrast, lists require linear search (O(n)) for element lookup."
      ],
      "metadata": {
        "id": "EGUwMHNvJv2k"
      }
    },
    {
      "cell_type": "markdown",
      "source": [
        "12.Describe a scenario where using a tuple would be preferable over a list.\n",
        "\n",
        "Use a tuple when you need to store a collection of data that should remain constant, like a fixed set of coordinates (e.g., latitude, longitude), or when you want to ensure data integrity by preventing accidental modification."
      ],
      "metadata": {
        "id": "BphRRmyQJ1gK"
      }
    },
    {
      "cell_type": "markdown",
      "source": [
        "13.\n",
        "How do sets handle duplicate values in Python?\n",
        "\n",
        "Sets automatically remove duplicates.\n",
        "\n",
        "If you attempt to add a duplicate value, it will be ignored, ensuring that each element in a set is unique.\n"
      ],
      "metadata": {
        "id": "lMmNpxNdJ2oA"
      }
    },
    {
      "cell_type": "markdown",
      "source": [
        "14.How does the “in” keyword work differently for lists and dictionaries?\n",
        "\n",
        "In lists, the \"in\" keyword checks if an element exists by searching through the list (O(n) time complexity).\n",
        "\n",
        "In dictionaries, it checks if a key exists, which is much faster (O(1) on average) due to the underlying hash table.\n",
        "\n"
      ],
      "metadata": {
        "id": "UK5pY3DqJ3nk"
      }
    },
    {
      "cell_type": "markdown",
      "source": [
        "15.Can you modify the elements of a tuple? Explain why or why not.\n",
        "\n",
        "No, you cannot modify the elements of a tuple because tuples are immutable.\n",
        "\n",
        "Once created, the data inside a tuple cannot be changed, which ensures the integrity of the stored values.\n"
      ],
      "metadata": {
        "id": "6L4dZGOjJ4pN"
      }
    },
    {
      "cell_type": "markdown",
      "source": [
        "16. What is a nested dictionary, and give an example of its use case.\n",
        "\n",
        "A nested dictionary is a dictionary where the values themselves are dictionaries. It is useful for representing hierarchical data."
      ],
      "metadata": {
        "id": "O8yPyO7CMW_1"
      }
    },
    {
      "cell_type": "code",
      "source": [
        "users = {\n",
        "    \"user1\": {\"name\": \"Alice\", \"age\": 30, \"address\": {\"city\": \"New York\", \"zip\": \"10001\"}},\n",
        "    \"user2\": {\"name\": \"Bob\", \"age\": 25, \"address\": {\"city\": \"San Francisco\", \"zip\": \"94101\"}}\n",
        "}\n"
      ],
      "metadata": {
        "id": "TgFBbCQqMfKf"
      },
      "execution_count": 1,
      "outputs": []
    },
    {
      "cell_type": "markdown",
      "source": [
        "17. Describe the time complexity of accessing elements in a dictionary.\n",
        "\n",
        "The time complexity for accessing elements in a dictionary is O(1) on average.\n",
        "\n",
        "This is because dictionaries in Python are implemented using hash tables, which allow for constant-time lookups by key."
      ],
      "metadata": {
        "id": "Jj8_g5D-Mz3j"
      }
    },
    {
      "cell_type": "markdown",
      "source": [
        "18. In what situations are lists preferred over dictionaries?\n",
        "\n",
        "Lists are preferred when the order of elements is important, or when you need to store a sequence of items.\n",
        "\n",
        "They are ideal for cases where elements are accessed by index rather than by a unique key."
      ],
      "metadata": {
        "id": "wPX0YAbJM4rK"
      }
    },
    {
      "cell_type": "markdown",
      "source": [
        "19. Why are dictionaries considered unordered, and how does that affect data retrieval?\n",
        "\n",
        "Dictionaries are considered unordered because the keys are stored in a hash table, and the order of insertion is not guaranteed (before Python 3.7).\n",
        "\n",
        "This means that you cannot rely on the order of elements when retrieving data. However, from Python 3.7 onwards, dictionaries maintain insertion order, though they are still conceptually unordered in terms of key lookup."
      ],
      "metadata": {
        "id": "cRg_QXg0NA1g"
      }
    },
    {
      "cell_type": "markdown",
      "source": [
        "20. Explain the difference between a list and a dictionary in terms of data retrieval.\n",
        "\n",
        "In a list, data is accessed by index (position in the sequence), and retrieval is based on the index value.\n",
        "\n",
        "In a dictionary, data is accessed by key, and retrieval is faster (O(1) on average) due to the use of a hash table. Lists are better for ordered collections, while dictionaries are ideal for key-based lookups."
      ],
      "metadata": {
        "id": "Z4BWuvCMNcgO"
      }
    },
    {
      "cell_type": "markdown",
      "source": [
        "####Practical Questions"
      ],
      "metadata": {
        "id": "2AsxNzMiZ7hF"
      }
    },
    {
      "cell_type": "code",
      "source": [
        "#1.Write a code to create a string with your name and print it\n",
        "\n",
        "name = \"Vishvajit_Nimbalkar\"\n",
        "print(name)"
      ],
      "metadata": {
        "colab": {
          "base_uri": "https://localhost:8080/"
        },
        "id": "F5WVXa7aaKMd",
        "outputId": "82dbbe63-0358-4474-c68e-5f9457efd6f5"
      },
      "execution_count": 2,
      "outputs": [
        {
          "output_type": "stream",
          "name": "stdout",
          "text": [
            "Vishvajit_Nimbalkar\n"
          ]
        }
      ]
    },
    {
      "cell_type": "code",
      "source": [
        "#2. Write a code to find the length of the string \"Hello World\"\n",
        "\n",
        "string = \"Hello World\"\n",
        "print(len(string))"
      ],
      "metadata": {
        "colab": {
          "base_uri": "https://localhost:8080/"
        },
        "id": "JrEjbxPbabHV",
        "outputId": "4b4a7f88-b453-4292-a374-b3a890e51d1d"
      },
      "execution_count": 3,
      "outputs": [
        {
          "output_type": "stream",
          "name": "stdout",
          "text": [
            "11\n"
          ]
        }
      ]
    },
    {
      "cell_type": "code",
      "source": [
        "#3. Write a code to slice the first 3 characters from the string \"Python Programming\"\n",
        "\n",
        "string = \"Python Programming\"\n",
        "print(string[:3])"
      ],
      "metadata": {
        "colab": {
          "base_uri": "https://localhost:8080/"
        },
        "id": "BgoJtYpHasLU",
        "outputId": "81373385-121f-4d4b-f508-e7b2d7d7cd7c"
      },
      "execution_count": 4,
      "outputs": [
        {
          "output_type": "stream",
          "name": "stdout",
          "text": [
            "Pyt\n"
          ]
        }
      ]
    },
    {
      "cell_type": "code",
      "source": [
        "#4. Write a code to convert the string \"hello\" to uppercase\n",
        "\n",
        "string = \"hello\"\n",
        "print(string.upper())"
      ],
      "metadata": {
        "colab": {
          "base_uri": "https://localhost:8080/"
        },
        "id": "SI_CHoEEa8nE",
        "outputId": "b07a7b2d-6a2f-41dd-d4ed-28c6c90a6cd9"
      },
      "execution_count": 5,
      "outputs": [
        {
          "output_type": "stream",
          "name": "stdout",
          "text": [
            "HELLO\n"
          ]
        }
      ]
    },
    {
      "cell_type": "code",
      "source": [
        "#5. Write a code to replace the word \"apple\" with \"orange\" in the string \"I like apple\"\n",
        "\n",
        "string = \"I like apple\"\n",
        "print(string.replace(\"apple\", \"orange\"))"
      ],
      "metadata": {
        "colab": {
          "base_uri": "https://localhost:8080/"
        },
        "id": "kZ-Vc-nrbFKU",
        "outputId": "dfe3842b-e90b-4ea5-bdf4-fe49dc159ae2"
      },
      "execution_count": 6,
      "outputs": [
        {
          "output_type": "stream",
          "name": "stdout",
          "text": [
            "I like orange\n"
          ]
        }
      ]
    },
    {
      "cell_type": "code",
      "source": [
        "#6. Write a code to create a list with numbers 1 to 5 and print it\n",
        "\n",
        "list = [1,2,3,4,5]\n",
        "print(list)"
      ],
      "metadata": {
        "colab": {
          "base_uri": "https://localhost:8080/"
        },
        "id": "FWxfcCPGbJyP",
        "outputId": "86d1f492-e529-4661-bf26-9d092cb9fa0b"
      },
      "execution_count": 7,
      "outputs": [
        {
          "output_type": "stream",
          "name": "stdout",
          "text": [
            "[1, 2, 3, 4, 5]\n"
          ]
        }
      ]
    },
    {
      "cell_type": "code",
      "source": [
        "#7. Write a code to append the number 10 to the list [1, 2, 3, 4]\n",
        "\n",
        "list = [1,2,3,4]\n",
        "list.append(10)\n",
        "print(list)"
      ],
      "metadata": {
        "colab": {
          "base_uri": "https://localhost:8080/"
        },
        "id": "DXfyDpE2bj-G",
        "outputId": "0c70c366-19ff-49e6-d9e7-f7da7342cb46"
      },
      "execution_count": 8,
      "outputs": [
        {
          "output_type": "stream",
          "name": "stdout",
          "text": [
            "[1, 2, 3, 4, 10]\n"
          ]
        }
      ]
    },
    {
      "cell_type": "code",
      "source": [
        "#8. Write a code to remove the number 3 from the list [1, 2, 3, 4, 5]\n",
        "\n",
        "list = [1,2,3,4,5]\n",
        "list.remove(3)\n",
        "print(list)"
      ],
      "metadata": {
        "colab": {
          "base_uri": "https://localhost:8080/"
        },
        "id": "mmK4IgyhbrLV",
        "outputId": "25737adb-eb1a-4639-d47d-a3618e2a309e"
      },
      "execution_count": 9,
      "outputs": [
        {
          "output_type": "stream",
          "name": "stdout",
          "text": [
            "[1, 2, 4, 5]\n"
          ]
        }
      ]
    },
    {
      "cell_type": "code",
      "source": [
        "#9. Write a code to access the second element in the list ['a', 'b', 'c', 'd']\n",
        "\n",
        "list = ['a', 'b', 'c', 'd']\n",
        "print(list[1])"
      ],
      "metadata": {
        "colab": {
          "base_uri": "https://localhost:8080/"
        },
        "id": "-61Kqfpab1l-",
        "outputId": "99e53158-8e56-4e4c-f331-6213de35096c"
      },
      "execution_count": 10,
      "outputs": [
        {
          "output_type": "stream",
          "name": "stdout",
          "text": [
            "b\n"
          ]
        }
      ]
    },
    {
      "cell_type": "code",
      "source": [
        "#10. Write a code to reverse the list [10, 20, 30, 40, 50].\n",
        "\n",
        "my_list = [10, 20, 30, 40, 50]\n",
        "my_list.reverse()\n",
        "print(my_list)\n",
        "\n",
        "my_list = [10, 20, 30, 40, 50]\n",
        "reversed_list = my_list[::-1]\n",
        "print(reversed_list)\n"
      ],
      "metadata": {
        "colab": {
          "base_uri": "https://localhost:8080/"
        },
        "id": "epWwnfn9b-KG",
        "outputId": "f7595611-81d4-437a-cf6c-52aba8220e36"
      },
      "execution_count": 11,
      "outputs": [
        {
          "output_type": "stream",
          "name": "stdout",
          "text": [
            "[50, 40, 30, 20, 10]\n",
            "[50, 40, 30, 20, 10]\n"
          ]
        }
      ]
    },
    {
      "cell_type": "code",
      "source": [
        "# 11. Write a code to create a tuple with the elements 10, 20, 30 and print it.\n",
        "\n",
        "my_tuple = (10, 20, 30)\n",
        "print(my_tuple)"
      ],
      "metadata": {
        "colab": {
          "base_uri": "https://localhost:8080/"
        },
        "id": "lyKHY0nNcQah",
        "outputId": "b05662a3-f317-4cf2-d1da-9824cafb70d9"
      },
      "execution_count": 12,
      "outputs": [
        {
          "output_type": "stream",
          "name": "stdout",
          "text": [
            "(10, 20, 30)\n"
          ]
        }
      ]
    },
    {
      "cell_type": "code",
      "source": [
        "# 12. Write a code to access the first element of the tuple ('apple', 'banana', 'cherry').\n",
        "\n",
        "my_tuple = ('apple', 'banana', 'cherry')\n",
        "print(my_tuple[0])"
      ],
      "metadata": {
        "colab": {
          "base_uri": "https://localhost:8080/"
        },
        "id": "paMn7jStf0Ee",
        "outputId": "2683b245-1491-43ae-911c-e6c8b2bdbcbc"
      },
      "execution_count": 13,
      "outputs": [
        {
          "output_type": "stream",
          "name": "stdout",
          "text": [
            "apple\n"
          ]
        }
      ]
    },
    {
      "cell_type": "code",
      "source": [
        "# 13. Write a code to count how many times the number 2 appears in the tuple (1, 2, 3, 2, 4, 2).\n",
        "\n",
        "my_tuple = (1, 2, 3, 2, 4, 2)\n",
        "count = my_tuple.count(2)\n",
        "print(count)"
      ],
      "metadata": {
        "colab": {
          "base_uri": "https://localhost:8080/"
        },
        "id": "vSGxXq1af8_M",
        "outputId": "8b34ceeb-9bda-4f14-a6fe-75c390737bae"
      },
      "execution_count": 14,
      "outputs": [
        {
          "output_type": "stream",
          "name": "stdout",
          "text": [
            "3\n"
          ]
        }
      ]
    },
    {
      "cell_type": "code",
      "source": [
        "# 14. Write a code to find the index of the element \"cat\" in the tuple ('dog', 'cat', 'rabbit').\n",
        "\n",
        "my_tuple = ('dog', 'cat', 'rabbit')\n",
        "index = my_tuple.index('cat')\n",
        "print(index)"
      ],
      "metadata": {
        "colab": {
          "base_uri": "https://localhost:8080/"
        },
        "id": "yaZ1rFZCgNtf",
        "outputId": "e83b9a7e-1fff-409e-ae9d-12ffd03b0ce6"
      },
      "execution_count": 15,
      "outputs": [
        {
          "output_type": "stream",
          "name": "stdout",
          "text": [
            "1\n"
          ]
        }
      ]
    },
    {
      "cell_type": "code",
      "source": [
        "#15. Write a code to check if the element \"banana\" is in the tuple ('apple', 'orange', 'banana').\n",
        "\n",
        "my_tuple = ('apple', 'orange', 'banana')\n",
        "if 'banana' in my_tuple:\n",
        "    print(\"banana is in the tuple\")\n",
        "else:\n",
        "    print(\"banana is not in the tuple\")"
      ],
      "metadata": {
        "colab": {
          "base_uri": "https://localhost:8080/"
        },
        "id": "rDsS3Xmsgeci",
        "outputId": "a108e25c-c317-42b8-a4f8-157b867bef58"
      },
      "execution_count": 16,
      "outputs": [
        {
          "output_type": "stream",
          "name": "stdout",
          "text": [
            "banana is in the tuple\n"
          ]
        }
      ]
    },
    {
      "cell_type": "code",
      "source": [
        "#16. Write a code to create a set with the elements 1, 2, 3, 4, 5 and print it.\n",
        "\n",
        "my_set = {1, 2, 3, 4, 5}\n",
        "print(my_set)"
      ],
      "metadata": {
        "colab": {
          "base_uri": "https://localhost:8080/"
        },
        "id": "wUqS_Ib_g2Ex",
        "outputId": "86e100ca-e99e-4619-87a7-86403f1b33f7"
      },
      "execution_count": 17,
      "outputs": [
        {
          "output_type": "stream",
          "name": "stdout",
          "text": [
            "{1, 2, 3, 4, 5}\n"
          ]
        }
      ]
    },
    {
      "cell_type": "code",
      "source": [
        "#17. Write a code to add the element 6 to the set {1, 2, 3, 4}.\n",
        "\n",
        "my_set = {1, 2, 3, 4}\n",
        "my_set.add(6)\n",
        "print(my_set)"
      ],
      "metadata": {
        "colab": {
          "base_uri": "https://localhost:8080/"
        },
        "id": "mx45VQGRhCHs",
        "outputId": "db85b298-3a7b-4b6d-a666-b681f35f3a27"
      },
      "execution_count": 18,
      "outputs": [
        {
          "output_type": "stream",
          "name": "stdout",
          "text": [
            "{1, 2, 3, 4, 6}\n"
          ]
        }
      ]
    },
    {
      "cell_type": "code",
      "source": [
        "#18. Write a code to create a tuple with the elements 10, 20, 30 and print it\n",
        "\n",
        "my_tuple = (10, 20, 30)\n",
        "print(my_tuple)"
      ],
      "metadata": {
        "colab": {
          "base_uri": "https://localhost:8080/"
        },
        "id": "MR3nOHAnhUkw",
        "outputId": "bd297d33-51d2-40b7-92c0-39033407fa39"
      },
      "execution_count": 19,
      "outputs": [
        {
          "output_type": "stream",
          "name": "stdout",
          "text": [
            "(10, 20, 30)\n"
          ]
        }
      ]
    },
    {
      "cell_type": "code",
      "source": [
        "#19. Write a code to access the first element of the tuple ('apple', 'banana', 'cherry').\n",
        "\n",
        "my_tuple = ('apple', 'banana', 'cherry')\n",
        "print(my_tuple[0])"
      ],
      "metadata": {
        "colab": {
          "base_uri": "https://localhost:8080/"
        },
        "id": "_L6qj_gthaH4",
        "outputId": "cbf3efea-fb27-43ce-f3ff-7c3c59802d94"
      },
      "execution_count": 20,
      "outputs": [
        {
          "output_type": "stream",
          "name": "stdout",
          "text": [
            "apple\n"
          ]
        }
      ]
    },
    {
      "cell_type": "code",
      "source": [
        "#20. Write a code to count how many times the number 2 appears in the tuple (1, 2, 3, 2, 4, 2).\n",
        "\n",
        "my_tuple = (1, 2, 3, 2, 4, 2)\n",
        "count = my_tuple.count(2)\n",
        "print(count)"
      ],
      "metadata": {
        "colab": {
          "base_uri": "https://localhost:8080/"
        },
        "id": "Yml2TofHhqtM",
        "outputId": "33103be3-7f0e-4bce-f2a6-88f9c1bc39fb"
      },
      "execution_count": 21,
      "outputs": [
        {
          "output_type": "stream",
          "name": "stdout",
          "text": [
            "3\n"
          ]
        }
      ]
    },
    {
      "cell_type": "code",
      "source": [
        "#21.  Write a code to find the index of the element \"cat\" in the tuple ('dog', 'cat', 'rabbit').\n",
        "\n",
        "my_tuple = ('dog', 'cat', 'rabbit')\n",
        "index = my_tuple.index('cat')\n",
        "print(index)"
      ],
      "metadata": {
        "colab": {
          "base_uri": "https://localhost:8080/"
        },
        "id": "n5CNvZQWh1em",
        "outputId": "12232ae6-fa25-4fe7-e08d-1d3b2ce05ea2"
      },
      "execution_count": 22,
      "outputs": [
        {
          "output_type": "stream",
          "name": "stdout",
          "text": [
            "1\n"
          ]
        }
      ]
    },
    {
      "cell_type": "code",
      "source": [
        "#22. Write a code to check if the element \"banana\" is in the tuple ('apple', 'orange', 'banana').\n",
        "\n",
        "my_tuple = ('apple', 'orange', 'banana')\n",
        "if 'banana' in my_tuple:\n",
        "    print(\"banana is in the tuple\")"
      ],
      "metadata": {
        "colab": {
          "base_uri": "https://localhost:8080/"
        },
        "id": "UaFNTK1Th6rD",
        "outputId": "0f7ed0a8-cd7b-463e-84da-217f7c929458"
      },
      "execution_count": 23,
      "outputs": [
        {
          "output_type": "stream",
          "name": "stdout",
          "text": [
            "banana is in the tuple\n"
          ]
        }
      ]
    },
    {
      "cell_type": "code",
      "source": [
        "# 23. Write a code to create a set with the elements 1, 2, 3, 4, 5 and print it.\n",
        "\n",
        "my_set = {1, 2, 3, 4, 5}\n",
        "print(my_set)"
      ],
      "metadata": {
        "colab": {
          "base_uri": "https://localhost:8080/"
        },
        "id": "Yy_iCPtViBsW",
        "outputId": "c29ed8cd-ecb8-46cf-fb64-9179845b3e0e"
      },
      "execution_count": 24,
      "outputs": [
        {
          "output_type": "stream",
          "name": "stdout",
          "text": [
            "{1, 2, 3, 4, 5}\n"
          ]
        }
      ]
    },
    {
      "cell_type": "code",
      "source": [
        "# 24. Write a code to add the element 6 to the set {1, 2, 3, 4}.\n",
        "\n",
        "my_set = {1, 2, 3, 4}\n",
        "my_set.add(6)\n",
        "print(my_set)"
      ],
      "metadata": {
        "colab": {
          "base_uri": "https://localhost:8080/"
        },
        "id": "oKakjEOUiMS4",
        "outputId": "5f4f56d7-b7aa-4013-da45-6715eb1dd7d9"
      },
      "execution_count": 25,
      "outputs": [
        {
          "output_type": "stream",
          "name": "stdout",
          "text": [
            "{1, 2, 3, 4, 6}\n"
          ]
        }
      ]
    }
  ]
}